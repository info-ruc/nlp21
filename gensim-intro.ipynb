{
 "cells": [
  {
   "cell_type": "markdown",
   "metadata": {},
   "source": [
    "# Gensim Tutorial"
   ]
  },
  {
   "cell_type": "markdown",
   "metadata": {},
   "source": [
    "## Install gensim"
   ]
  },
  {
   "cell_type": "code",
   "execution_count": 3,
   "metadata": {},
   "outputs": [],
   "source": [
    "# pip install gensim"
   ]
  },
  {
   "cell_type": "markdown",
   "metadata": {},
   "source": [
    "## Using corpora"
   ]
  },
  {
   "cell_type": "code",
   "execution_count": 1,
   "metadata": {},
   "outputs": [],
   "source": [
    "from gensim import corpora\n",
    "\n",
    "documents = [u\"Football club Arsenal defeat local rivals this weekend.\", u\"Weekend football frenzy takes over London.\", u\"Bank open for take over bids after losing millions.\", u\"London football clubs bid to move to Wembley stadium.\", u\"Arsenal bid 50 million pounds for striker Kane.\", u\"Financial troubles result in loss of millions for bank.\", u\"Western bank files for bankruptcy after financial losses.\", u\"London football club is taken over by oil millionaire from Russia.\", u\"Banking on finances not working for Russia.\"]\n",
    "\n",
    "import spacy\n",
    "nlp = spacy.load(\"en\")\n",
    "texts = []\n",
    "for document in documents:\n",
    "    text = []\n",
    "    doc = nlp(document)\n",
    "    for w in doc:\n",
    "        if not w.is_stop and not w.is_punct and not w.like_num:\n",
    "            text.append(w.lemma_)\n",
    "    texts.append(text)"
   ]
  },
  {
   "cell_type": "code",
   "execution_count": 2,
   "metadata": {},
   "outputs": [
    {
     "output_type": "execute_result",
     "data": {
      "text/plain": [
       "[['football', 'club', 'Arsenal', 'defeat', 'local', 'rival', 'weekend'],\n",
       " ['weekend', 'football', 'frenzy', 'take', 'London'],\n",
       " ['bank', 'open', 'bid', 'lose', 'million'],\n",
       " ['London', 'football', 'club', 'bid', 'Wembley', 'stadium'],\n",
       " ['Arsenal', 'bid', 'pound', 'striker', 'Kane'],\n",
       " ['financial', 'trouble', 'result', 'loss', 'million', 'bank'],\n",
       " ['western', 'bank', 'file', 'bankruptcy', 'financial', 'loss'],\n",
       " ['London', 'football', 'club', 'take', 'oil', 'millionaire', 'Russia'],\n",
       " ['bank', 'finance', 'work', 'Russia']]"
      ]
     },
     "metadata": {},
     "execution_count": 2
    }
   ],
   "source": [
    "texts"
   ]
  },
  {
   "cell_type": "markdown",
   "metadata": {},
   "source": [
    "## using dictionary"
   ]
  },
  {
   "cell_type": "code",
   "execution_count": 3,
   "metadata": {},
   "outputs": [
    {
     "output_type": "stream",
     "name": "stdout",
     "text": [
      "{'Arsenal': 0, 'club': 1, 'defeat': 2, 'football': 3, 'local': 4, 'rival': 5, 'weekend': 6, 'London': 7, 'frenzy': 8, 'take': 9, 'bank': 10, 'bid': 11, 'lose': 12, 'million': 13, 'open': 14, 'Wembley': 15, 'stadium': 16, 'Kane': 17, 'pound': 18, 'striker': 19, 'financial': 20, 'loss': 21, 'result': 22, 'trouble': 23, 'bankruptcy': 24, 'file': 25, 'western': 26, 'Russia': 27, 'millionaire': 28, 'oil': 29, 'finance': 30, 'work': 31}\n"
     ]
    }
   ],
   "source": [
    "dictionary = corpora.Dictionary(texts)\n",
    "print(dictionary.token2id)\n",
    "\n",
    "corpus = [dictionary.doc2bow(text) for text in texts] "
   ]
  },
  {
   "cell_type": "code",
   "execution_count": 4,
   "metadata": {},
   "outputs": [
    {
     "output_type": "execute_result",
     "data": {
      "text/plain": [
       "[[(0, 1), (1, 1), (2, 1), (3, 1), (4, 1), (5, 1), (6, 1)],\n",
       " [(3, 1), (6, 1), (7, 1), (8, 1), (9, 1)],\n",
       " [(10, 1), (11, 1), (12, 1), (13, 1), (14, 1)],\n",
       " [(1, 1), (3, 1), (7, 1), (11, 1), (15, 1), (16, 1)],\n",
       " [(0, 1), (11, 1), (17, 1), (18, 1), (19, 1)],\n",
       " [(10, 1), (13, 1), (20, 1), (21, 1), (22, 1), (23, 1)],\n",
       " [(10, 1), (20, 1), (21, 1), (24, 1), (25, 1), (26, 1)],\n",
       " [(1, 1), (3, 1), (7, 1), (9, 1), (27, 1), (28, 1), (29, 1)],\n",
       " [(10, 1), (27, 1), (30, 1), (31, 1)]]"
      ]
     },
     "metadata": {},
     "execution_count": 4
    }
   ],
   "source": [
    "corpus"
   ]
  },
  {
   "cell_type": "markdown",
   "metadata": {},
   "source": [
    "## TF-IDF representation"
   ]
  },
  {
   "cell_type": "code",
   "execution_count": 6,
   "metadata": {
    "tags": []
   },
   "outputs": [
    {
     "output_type": "stream",
     "name": "stdout",
     "text": [
      "[(0, 0.3292179861221233), (1, 0.24046829370585296), (2, 0.4809365874117059), (3, 0.1774993848325406), (4, 0.4809365874117059), (5, 0.4809365874117059), (6, 0.3292179861221233)]\n[(3, 0.24212967666975266), (6, 0.4490913847888623), (7, 0.32802654645398593), (8, 0.6560530929079719), (9, 0.4490913847888623)]\n[(10, 0.2184344336379748), (11, 0.29592528218102643), (12, 0.5918505643620529), (13, 0.4051424990000138), (14, 0.5918505643620529)]\n[(1, 0.29431054749542984), (3, 0.21724253258131512), (7, 0.29431054749542984), (11, 0.29431054749542984), (15, 0.5886210949908597), (16, 0.5886210949908597)]\n[(0, 0.354982288765831), (11, 0.25928712547209604), (17, 0.5185742509441921), (18, 0.5185742509441921), (19, 0.5185742509441921)]\n[(10, 0.19610384738673725), (13, 0.3637247180792822), (20, 0.3637247180792822), (21, 0.3637247180792822), (22, 0.5313455887718271), (23, 0.5313455887718271)]\n[(10, 0.18286519950508276), (20, 0.3391702611796705), (21, 0.3391702611796705), (24, 0.4954753228542582), (25, 0.4954753228542582), (26, 0.4954753228542582)]\n[(1, 0.2645025265769199), (3, 0.1952400253294319), (7, 0.2645025265769199), (9, 0.3621225392416359), (27, 0.3621225392416359), (28, 0.5290050531538398), (29, 0.5290050531538398)]\n[(10, 0.22867660961662029), (27, 0.4241392327204109), (30, 0.6196018558242014), (31, 0.6196018558242014)]\n"
     ]
    }
   ],
   "source": [
    "from gensim import models\n",
    "tfidf = models.TfidfModel(corpus)\n",
    "\n",
    "for document in tfidf[corpus]:\n",
    "    print(document)"
   ]
  },
  {
   "cell_type": "markdown",
   "metadata": {},
   "source": [
    "## using n-gram"
   ]
  },
  {
   "cell_type": "code",
   "execution_count": 13,
   "metadata": {},
   "outputs": [],
   "source": [
    "import gensim\n",
    "from gensim.corpora import *\n",
    "bigram = gensim.models.Phrases(texts) \n",
    "texts = [bigram[line] for line in texts]\n",
    "\n",
    "dictionary = Dictionary(texts)\n",
    "corpus = [dictionary.doc2bow(text) for text in texts]\n",
    "\n",
    "dictionary.filter_extremes(no_below=20, no_above=0.5) "
   ]
  },
  {
   "cell_type": "code",
   "execution_count": 16,
   "metadata": {},
   "outputs": [
    {
     "output_type": "execute_result",
     "data": {
      "text/plain": [
       "[['football', 'club', 'Arsenal', 'defeat', 'local', 'rival', 'weekend'],\n",
       " ['weekend', 'football', 'frenzy', 'take', 'London'],\n",
       " ['bank', 'open', 'bid', 'lose', 'million'],\n",
       " ['London', 'football', 'club', 'bid', 'Wembley', 'stadium'],\n",
       " ['Arsenal', 'bid', 'pound', 'striker', 'Kane'],\n",
       " ['financial', 'trouble', 'result', 'loss', 'million', 'bank'],\n",
       " ['western', 'bank', 'file', 'bankruptcy', 'financial', 'loss'],\n",
       " ['London', 'football', 'club', 'take', 'oil', 'millionaire', 'Russia'],\n",
       " ['bank', 'finance', 'work', 'Russia']]"
      ]
     },
     "metadata": {},
     "execution_count": 16
    }
   ],
   "source": [
    "texts"
   ]
  }
 ],
 "metadata": {
  "kernelspec": {
   "name": "Python 3.7.6 64-bit",
   "display_name": "Python 3.7.6 64-bit",
   "metadata": {
    "interpreter": {
     "hash": "d3dd99316e4a8545b7b2cf42c2d8ce5a7faa985daf98d6f06c5f46664d86f14c"
    }
   }
  },
  "language_info": {
   "codemirror_mode": {
    "name": "ipython",
    "version": 3
   },
   "file_extension": ".py",
   "mimetype": "text/x-python",
   "name": "python",
   "nbconvert_exporter": "python",
   "pygments_lexer": "ipython3",
   "version": "3.7.6-final"
  }
 },
 "nbformat": 4,
 "nbformat_minor": 4
}